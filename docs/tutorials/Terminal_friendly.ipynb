{
 "cells": [
  {
   "cell_type": "markdown",
   "id": "fd35834d",
   "metadata": {},
   "source": [
    "# Terminal Friendly PyIRI\n",
    "\n",
    "## In case you want to use a regularly spaced global grid and to run\n",
    "## PyIRI from the terminal, you can use the following function:\n",
    "\n"
   ]
  },
  {
   "cell_type": "markdown",
   "id": "14244db2",
   "metadata": {},
   "source": [
    "## 1. Montly mean parameters:"
   ]
  },
  {
   "cell_type": "code",
   "execution_count": 1,
   "id": "c49c201f",
   "metadata": {},
   "outputs": [
    {
     "name": "stdout",
     "output_type": "stream",
     "text": [
      "PyIRI: IRI_density_1day:------------------------------------------\n",
      "Determining parameters and electron density for 1 day:            year=2020, month=4, day=15\n",
      "For UT =  [ 0  2  4  6  8 10 12 14 16 18 20 22]\n",
      "Longitude =  [-180 -180 -180 ...  180  180  180]\n",
      "Latitude =  [-90 -85 -80 ...  80  85  90]\n",
      "Provided F10.7=150\n",
      "For NmF2 determination CCIR  used.\n",
      "Model parameters are being determinaed for 2 levels of solaractivity at F10.7=69.3 and 135.2 SFU\n",
      "For NmF2 determination CCIR used.\n",
      "Determining magnetic inclination.\n",
      "Model parameters are being determinaed for 2 levels of solaractivity at F10.7=69.3 and 135.2 SFU\n",
      "For NmF2 determination CCIR used.\n",
      "Determining magnetic inclination.\n",
      "Mean monthly parameters are calculated\n",
      "-----------------------------------------------------------------\n",
      "(12, 70, 2701)\n"
     ]
    }
   ],
   "source": [
    "import PyIRI\n",
    "import PyIRI.main_library as ml\n",
    "\n",
    "\n",
    "alon, alat, alon_2d, alat_2d, aalt, ahr, f2, f1, epeak, es_peak, \\\n",
    "    sun, mag, edens_prof = ml.run_iri_reg_grid(\n",
    "    2020, 4, 15, 150, hr_res=2, lat_res=5, lon_res=5,\n",
    "    alt_res=10, alt_min=0, alt_max=700, ccir_or_ursi=0)\n",
    "\n",
    "print(edens_prof.shape)"
   ]
  },
  {
   "cell_type": "code",
   "execution_count": null,
   "id": "653e98e7",
   "metadata": {},
   "outputs": [],
   "source": []
  }
 ],
 "metadata": {
  "kernelspec": {
   "display_name": "Python 3 (ipykernel)",
   "language": "python",
   "name": "python3"
  },
  "language_info": {
   "codemirror_mode": {
    "name": "ipython",
    "version": 3
   },
   "file_extension": ".py",
   "mimetype": "text/x-python",
   "name": "python",
   "nbconvert_exporter": "python",
   "pygments_lexer": "ipython3",
   "version": "3.9.7"
  }
 },
 "nbformat": 4,
 "nbformat_minor": 5
}
