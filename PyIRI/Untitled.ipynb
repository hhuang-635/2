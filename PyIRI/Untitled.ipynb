{
 "cells": [
  {
   "cell_type": "code",
   "execution_count": 1,
   "id": "69632835-7def-4224-8d6d-e60f0ae71bd6",
   "metadata": {
    "tags": []
   },
   "outputs": [
    {
     "name": "stdout",
     "output_type": "stream",
     "text": [
      "Done\n"
     ]
    }
   ],
   "source": [
    "import main_library as ml\n",
    "import numpy as np\n",
    "import datetime as dt\n",
    "\n",
    "\n",
    "alon, alat, alon_2d, alat_2d = ml.set_geo_grid(90, 90)\n",
    "\n",
    "# Create vertical grid:\n",
    "aalt = np.arange(100, 700, 10)\n",
    "\n",
    "# Create 15-min resolution time array:\n",
    "aUT = np.arange(0, 24, 0.25)\n",
    "\n",
    "# Day of Interest:\n",
    "year = 2022\n",
    "month = 1\n",
    "day = 1\n",
    "\n",
    "# Specify F10.7:\n",
    "F107 = 90.8\n",
    "\n",
    "f2, f1, e_peak, es_peak, sun, mag = ml.IRI_monthly_mean_par(year, month, aUT, alon, alat, '/Users/vmakarevich/opt/anaconda3/lib/python3.9/site-packages/PyIRI/coefficients', 1)\n",
    "print('Done')"
   ]
  },
  {
   "cell_type": "code",
   "execution_count": null,
   "id": "55a3cbad-4eae-4690-868d-5c910822ac04",
   "metadata": {},
   "outputs": [],
   "source": []
  },
  {
   "cell_type": "code",
   "execution_count": null,
   "id": "14676984-998b-4845-80a1-e9bbbe259e14",
   "metadata": {},
   "outputs": [],
   "source": []
  }
 ],
 "metadata": {
  "kernelspec": {
   "display_name": "Python 3 (ipykernel)",
   "language": "python",
   "name": "python3"
  },
  "language_info": {
   "codemirror_mode": {
    "name": "ipython",
    "version": 3
   },
   "file_extension": ".py",
   "mimetype": "text/x-python",
   "name": "python",
   "nbconvert_exporter": "python",
   "pygments_lexer": "ipython3",
   "version": "3.9.18"
  }
 },
 "nbformat": 4,
 "nbformat_minor": 5
}
